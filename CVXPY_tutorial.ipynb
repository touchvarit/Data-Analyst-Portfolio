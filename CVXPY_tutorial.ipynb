{
  "cells": [
    {
      "cell_type": "markdown",
      "metadata": {
        "id": "view-in-github",
        "colab_type": "text"
      },
      "source": [
        "<a href=\"https://colab.research.google.com/github/touchvarit/Data-Analyst-Portfolio/blob/main/CVXPY_tutorial.ipynb\" target=\"_parent\"><img src=\"https://colab.research.google.com/assets/colab-badge.svg\" alt=\"Open In Colab\"/></a>"
      ]
    },
    {
      "cell_type": "markdown",
      "metadata": {
        "id": "cEKcH4UtcsmR"
      },
      "source": [
        "<font size=\"8\">What is CVXPY?</font>\n"
      ]
    },
    {
      "cell_type": "markdown",
      "metadata": {
        "id": "AYc6eIzecsmV"
      },
      "source": [
        "This workbook is based on https://www.cvxpy.org/index.html"
      ]
    },
    {
      "cell_type": "code",
      "source": [
        "# @title\n",
        "from google.colab import drive\n",
        "drive.mount('/content/drive')"
      ],
      "metadata": {
        "id": "FFcLAlJBM0Rr",
        "colab": {
          "base_uri": "https://localhost:8080/"
        },
        "outputId": "e357198b-0e40-4f14-e19b-2699c41c7868"
      },
      "execution_count": null,
      "outputs": [
        {
          "output_type": "stream",
          "name": "stdout",
          "text": [
            "Mounted at /content/drive\n"
          ]
        }
      ]
    },
    {
      "cell_type": "markdown",
      "metadata": {
        "id": "tWzPEXrMcsmV"
      },
      "source": [
        "CVXPY is an open source Python-embedded modeling language for convex optimization problems. It automatically\n",
        "\n",
        "1.   Transforms the problem written in a mathematical (intuitive) expression into standard form for a solver.\n",
        "2.   Choose the solver suitable for the problem.\n",
        "2.   Determine all parameters for the solver.\n",
        "3.   Unpacks the results"
      ]
    },
    {
      "cell_type": "markdown",
      "metadata": {
        "id": "c24qgkLMp5M7"
      },
      "source": [
        "#Linear Programming"
      ]
    },
    {
      "cell_type": "markdown",
      "source": [
        "##Example\n",
        "Consider the following linear programming problem:\\\n",
        "\\\n",
        "\\begin{align*}\n",
        "\\text{minimize: } & 10x+15y+25z,& \\\\\n",
        "\\text{subject to: } & x+y+z&\\geq 1000, \\\\\n",
        " & x-2y&\\geq 0, \\\\\n",
        " &z&\\geq 340,\\\\\n",
        " &x+z&= 800,\\\\\n",
        " &x,y,z&\\geq 0,\\\\\n",
        "\\end{align*}\n",
        "where $x,y,z \\in \\mathbb{R}$"
      ],
      "metadata": {
        "id": "nR8bz1LEsxla"
      }
    },
    {
      "cell_type": "markdown",
      "source": [
        "##Solving the Problem Using Standard Solvers\n",
        "\n",
        "\n"
      ],
      "metadata": {
        "id": "C_YXEWCqtFML"
      }
    },
    {
      "cell_type": "markdown",
      "metadata": {
        "id": "PwcFqY6Ep5M9"
      },
      "source": [
        "First, consider the **standard form** of a linear optimization problem:\n",
        "\n",
        "\\\\\n",
        "\\begin{align*}\n",
        "\\text{minimize:} & \\quad c^T x, \\\\\n",
        "\\text{subject to:} & \\quad A_{ub} x \\leq b_{ub}, \\\\\n",
        " & \\quad A_{eq} x = b_{eq}, \\\\\n",
        "\\end{align*}\n",
        "\\\n",
        "where\n",
        "\n",
        "$A_{ub} \\in  \\mathbb{R}^{m \\times n},b_{ub} \\in \\mathbb{R}^m,A_{eq} \\in  \\mathbb{R}^{s \\times n},b_{eq} \\in \\mathbb{R}^s \\text{ and } c \\in \\mathbb{R}^n \\text{ are problem data and } x \\in  \\mathbb{R}^n \\text{ is the optimization variable.}$"
      ]
    },
    {
      "cell_type": "markdown",
      "source": [
        "To solve the above problem, you would need to\n",
        "\n",
        "1.   Rewrite the problem in the standard form.\n",
        "2.   Determine c, $A_{ub}$, $b_{ub}$, $A_{eq}$, $b_{eq}$ according to the problem.\n",
        "2.   Use linear programming solver such as scipy.optimize.linprog(c, $A_{ub}$, $b_{ub}$, $A_{eq}$, $b_{eq}$).\n",
        "\n"
      ],
      "metadata": {
        "id": "BHTPFGThqqKC"
      }
    },
    {
      "cell_type": "markdown",
      "source": [
        "\\begin{align*}\n",
        "\\text{minimize: } & 10x+15y+25z,& \\\\\n",
        "\\text{subject to: }  &-x-y-z &\\leq -1000, \\\\\n",
        " & -x+2y+0z &\\leq 0, \\\\\n",
        " &0x+0z-z &\\leq -340,\\\\\n",
        " &-x+0y+0z &\\leq 0,\\\\\n",
        " &0x-y+0z &\\leq 0,\\\\\n",
        " &0x+0y-z &\\leq 0,\\\\\n",
        " &x+0y+z &= 800,\\\\\n",
        "\\end{align*}\n",
        "where $x,y,z \\in \\mathbb{R}$"
      ],
      "metadata": {
        "id": "vncHu1Ob1YcW"
      }
    },
    {
      "cell_type": "markdown",
      "source": [
        "\\begin{align*}\n",
        "\\text{minimize: } & \\begin{bmatrix} 10  \\\\ 15\\\\25  \\end{bmatrix}^T\\begin{bmatrix} x  \\\\ y\\\\z  \\end{bmatrix} \\\\\n",
        "\\text{subject to: } & \\begin{bmatrix} -1 & -1 &-1 \\\\ -1 & 2&0\\\\0&0&-1\\\\-1&0&0\\\\0&-1&0\\\\0&0&-1 \\end{bmatrix} \\begin{bmatrix} x  \\\\ y\\\\z  \\end{bmatrix} \\leq \\begin{bmatrix} -1000  \\\\ 0\\\\-340 \\\\0\\\\0\\\\0 \\end{bmatrix}, \\\\\n",
        " & \\begin{bmatrix} 1&0&1\\end{bmatrix}\\begin{bmatrix} x  \\\\ y\\\\z  \\end{bmatrix}=[800] \\\\\n",
        "\\end{align*}\n",
        "where $x,y \\in \\mathbb{R}$\n"
      ],
      "metadata": {
        "id": "dFNmYsPz4dLY"
      }
    },
    {
      "cell_type": "markdown",
      "source": [
        "Thus, we have that\n",
        "\n",
        "$$c= \\begin{bmatrix} 10  \\\\ 15\\\\25  \\end{bmatrix},\n",
        "A_{ub}=  \\begin{bmatrix} -1 & -1 &-1 \\\\ -1 & 2&0\\\\0&0&-1\\\\-1&0&0\\\\0&-1&0\\\\0&0&-1 \\end{bmatrix} ,\n",
        "b_{uq}=\\begin{bmatrix} -1000  \\\\ 0\\\\-340 \\\\0\\\\0\\\\0 \\end{bmatrix},\n",
        " A_{eq}= \\begin{bmatrix} 1&0&1\\end{bmatrix},\n",
        " b_{eq}=[800] \\\\\n",
        "$$"
      ],
      "metadata": {
        "id": "Q1BkFk87Awap"
      }
    },
    {
      "cell_type": "code",
      "source": [
        "import numpy as np\n",
        "from scipy.optimize import linprog\n",
        "\n",
        "# Setting the coefficients of the linear objective function vector\n",
        "c = np.array([10, 15, 25])\n",
        "\n",
        "# Setting the inequality constraints matrix\n",
        "A_ub = np.array([[-1, -1, -1],\n",
        "              [-1, 2, 0],\n",
        "              [0, 0, -1],\n",
        "              [-1, 0, 0],\n",
        "              [0, -1, 0],\n",
        "              [0, 0, -1]])\n",
        "\n",
        "# Setting the inequality constraints vector\n",
        "b_ub = np.array([-1000, 0, -340, 0, 0, 0])\n",
        "\n",
        "\n",
        "# Setting the equality constraints matrix\n",
        "A_eq = np.array([[1, 0, 1]])\n",
        "\n",
        "# Setting the equality constraints vector\n",
        "b_eq = np.array([800])\n",
        "\n",
        "# Solving linear programming problem\n",
        "res = linprog(c, A_ub, b_ub,A_eq,b_eq)\n",
        "\n",
        "print('Optimal value:', round(res.fun, ndigits=2),\n",
        "      '\\nx values:', res.x,\n",
        "      '\\nNumber of iterations performed:', res.nit,\n",
        "      '\\nStatus:', res.message)"
      ],
      "metadata": {
        "colab": {
          "base_uri": "https://localhost:8080/"
        },
        "id": "GUNhqSfP2-va",
        "outputId": "c5ef7fe2-7d03-407b-d3f7-88925f1face2"
      },
      "execution_count": null,
      "outputs": [
        {
          "output_type": "stream",
          "name": "stdout",
          "text": [
            "Optimal value: 16100.0 \n",
            "x values: [460. 200. 340.] \n",
            "Number of iterations performed: 0 \n",
            "Status: Optimization terminated successfully. (HiGHS Status 7: Optimal)\n"
          ]
        }
      ]
    },
    {
      "cell_type": "markdown",
      "source": [
        "##Solving the Problem Using *CVXPY*"
      ],
      "metadata": {
        "id": "q9l8ZR6vB-QI"
      }
    },
    {
      "cell_type": "markdown",
      "source": [
        "Alternativly, one can use CVXPY to solve the problem:"
      ],
      "metadata": {
        "id": "MC90ezAu6Fcs"
      }
    },
    {
      "cell_type": "markdown",
      "source": [
        "\\begin{align*}\n",
        "\\text{minimize: } & 10x+15y+25z,& \\\\\n",
        "\\text{subject to: } & x+y+z&\\geq 1000, \\\\\n",
        " & x-2y&\\geq 0, \\\\\n",
        " &z&\\geq 340,\\\\\n",
        " &x+z&= 700,\\\\\n",
        " &x,y,z&\\geq 0,\\\\\n",
        "\\end{align*}\n",
        "where $x,y,z \\in \\mathbb{R}$."
      ],
      "metadata": {
        "id": "2iiNFovj6tIo"
      }
    },
    {
      "cell_type": "code",
      "source": [
        "#Install CVXPY package\n",
        "!pip install cvxpy"
      ],
      "metadata": {
        "colab": {
          "base_uri": "https://localhost:8080/"
        },
        "id": "e9_a6w-qDQEr",
        "outputId": "890a89bf-c637-4026-cac7-38515688a189"
      },
      "execution_count": null,
      "outputs": [
        {
          "output_type": "stream",
          "name": "stdout",
          "text": [
            "Requirement already satisfied: cvxpy in /usr/local/lib/python3.10/dist-packages (1.3.2)\n",
            "Requirement already satisfied: osqp>=0.4.1 in /usr/local/lib/python3.10/dist-packages (from cvxpy) (0.6.2.post8)\n",
            "Requirement already satisfied: ecos>=2 in /usr/local/lib/python3.10/dist-packages (from cvxpy) (2.0.12)\n",
            "Requirement already satisfied: scs>=1.1.6 in /usr/local/lib/python3.10/dist-packages (from cvxpy) (3.2.4.post1)\n",
            "Requirement already satisfied: numpy>=1.15 in /usr/local/lib/python3.10/dist-packages (from cvxpy) (1.23.5)\n",
            "Requirement already satisfied: scipy>=1.1.0 in /usr/local/lib/python3.10/dist-packages (from cvxpy) (1.11.4)\n",
            "Requirement already satisfied: setuptools>65.5.1 in /usr/local/lib/python3.10/dist-packages (from cvxpy) (67.7.2)\n",
            "Requirement already satisfied: qdldl in /usr/local/lib/python3.10/dist-packages (from osqp>=0.4.1->cvxpy) (0.1.7.post0)\n"
          ]
        }
      ]
    },
    {
      "cell_type": "code",
      "source": [
        "import cvxpy as cp\n",
        "import numpy as np\n",
        "\n",
        "# Create two scalar optimization variables.\n",
        "x = cp.Variable()\n",
        "y = cp.Variable()\n",
        "z = cp.Variable()\n",
        "\n",
        "# Form objective.\n",
        "obj = cp.Minimize(10*x+15*y+25*z)\n",
        "\n",
        "# Create constraints.\n",
        "constraints = [x + y + z >= 1000,\n",
        "               x - 2*y   >= 0,\n",
        "               z         >= 340,\n",
        "               x + z     == 800,\n",
        "               x         >= 0,\n",
        "               y         >= 0,\n",
        "               z         >= 0]\n",
        "\n",
        "# Form and solve problem.\n",
        "prob = cp.Problem(obj, constraints)\n",
        "prob.solve()\n",
        "# Returns the optimal value.\n",
        "print(\"status:\", prob.status)\n",
        "print(\"optimal value\", prob.value)\n",
        "print(\"optimal var\",'x is', x.value,'y is', y.value,'z is', z.value )"
      ],
      "metadata": {
        "colab": {
          "base_uri": "https://localhost:8080/"
        },
        "id": "WYRPerky6LPx",
        "outputId": "d6389136-e138-44dd-e536-dca4dcaace54"
      },
      "execution_count": null,
      "outputs": [
        {
          "output_type": "stream",
          "name": "stdout",
          "text": [
            "status: optimal\n",
            "optimal value 16100.000003703022\n",
            "optimal var x is 460.00000025950794 y is 200.0000005063855 z is 339.9999997404864\n"
          ]
        }
      ]
    },
    {
      "cell_type": "markdown",
      "metadata": {
        "id": "okFUo4N39R_B"
      },
      "source": [
        "##Example: Investment Optimization Problem"
      ]
    },
    {
      "cell_type": "markdown",
      "metadata": {
        "id": "DgwgSLnj9R_D"
      },
      "source": [
        "You have 12,000 to invest, and three different funds from which to choose. The municipal bond fund has a 7% return, the local bank's CDs have an 8% return, and the high-risk account has an expected (hoped for) 12% return. To minimize the risk, you decide not to invest any more than $2,000 in the high-risk account. For tax reasons, you need to invest at least three times as much in the municipal bonds as in the bank CDs. Assuming the year-end yields are expected what are the optimal investment amounts?"
      ]
    },
    {
      "cell_type": "markdown",
      "metadata": {
        "id": "VvaFllqD9R_D"
      },
      "source": [
        "**Objective Function**\n",
        "\n",
        "\n",
        "The objective is to maximize the total return:\n",
        "$ \\text{Maximize} \\quad 0.07x_1 + 0.08x_2 + 0.12x_3 $\n",
        "\n",
        "where:\n",
        "- $x_1$: amount invested in municipal bonds\n",
        "- $x_2$: amount invested in local bank's CDs\n",
        "- $x_3$: amount invested in the high-risk account\n",
        "\n",
        "**Constraints**\n",
        "1. Total investment is limited to $12,000:\n",
        "\n",
        "   $x_1 + x_2 + x_3 \\leq 12,000$\n",
        "\n",
        "2. The amount invested in the high-risk account is limited to $2,000:\n",
        "\n",
        "   $x_3 \\leq 2,000$\n",
        "\n",
        "3. For tax reasons, invest at least three times as much in municipal bonds as in bank CDs:\n",
        "\n",
        "   $x_1 \\geq 3x_2$"
      ]
    },
    {
      "cell_type": "code",
      "execution_count": null,
      "metadata": {
        "outputId": "44ff6174-ae93-4f27-a39e-e8e00f597224",
        "colab": {
          "base_uri": "https://localhost:8080/"
        },
        "id": "QXzcWlz49R_E"
      },
      "outputs": [
        {
          "output_type": "stream",
          "name": "stdout",
          "text": [
            "Optimal Investment Amounts:\n",
            "Investment in Municipal Bonds : 7500.000000326279\n",
            "Investment in Bank CDs : 2499.999999695155\n",
            "Investment in High-Risk Account : 1999.999999955671\n"
          ]
        }
      ],
      "source": [
        "# Define variables\n",
        "x1 = cp.Variable()  # Investment in municipal bonds\n",
        "x2 = cp.Variable()  # Investment in bank CDs\n",
        "x3 = cp.Variable()  # Investment in high-risk account\n",
        "\n",
        "# Define parameters\n",
        "total_budget = 12000\n",
        "high_risk_limit = 2000\n",
        "\n",
        "# Objective function\n",
        "objective = cp.Maximize(0.07 * x1 + 0.08 * x2 + 0.12 * x3)\n",
        "\n",
        "# Constraints\n",
        "constraints = [\n",
        "    x1 + x2 + x3 <= total_budget,\n",
        "    x3 <= high_risk_limit,\n",
        "    x1 >= 3 * x2\n",
        "]\n",
        "\n",
        "# Formulate the problem\n",
        "problem = cp.Problem(objective, constraints)\n",
        "\n",
        "# Solve the problem\n",
        "problem.solve()\n",
        "\n",
        "# Display the results\n",
        "print(\"Optimal Investment Amounts:\")\n",
        "print(\"Investment in Municipal Bonds :\", x1.value)\n",
        "print(\"Investment in Bank CDs :\", x2.value)\n",
        "print(\"Investment in High-Risk Account :\", x3.value)\n"
      ]
    },
    {
      "cell_type": "markdown",
      "metadata": {
        "id": "FPW6ILcS_HoO"
      },
      "source": [
        "## Example: Loan Allocation Optimization Problem\n",
        "\n",
        "A financial institution has a lending capacity of $1,000,000 and considers three borrower types: A, B, and C with expected returns of 8%, 10%, and 12%, respectively. The institution must allocate loans to all types, with minimums of 30% to A, and 20% to C, and a maximum of 40% to B. The goal is to maximize the total expected return.\n",
        "\n",
        "**Objective Function**\n",
        "\n",
        "\n",
        "The objective is to maximize the total expected return:\n",
        "$ \\text{Maximize} \\quad 0.08x_A + 0.10x_B + 0.12x_C $\n",
        "\n",
        "where:\n",
        "- $x_A$: amount allocated to borrower type A\n",
        "- $x_B$: amount allocated to borrower type B\n",
        "- $x_C$: amount allocated to borrower type C\n",
        "\n",
        "**Constraints**\n",
        "1. Total loan allocation is limited to $1,000,000:\n",
        "\n",
        "   $x_A + x_B + x_C = 1,000,000$\n",
        "\n",
        "2. Minimum allocation constraints:\n",
        "   - $x_A \\geq 0.30 \\times 1,000,000$ (30% to A)\n",
        "   - $x_C \\geq 0.20 \\times 1,000,000$ (20% to C)\n",
        "\n",
        "3. Maximum allocation constraint:\n",
        "   - $x_B \\leq 0.40 \\times 1,000,000$ (40% to B)"
      ]
    },
    {
      "cell_type": "code",
      "execution_count": null,
      "metadata": {
        "outputId": "a5b78574-3259-46f2-ffb4-c171ed062307",
        "colab": {
          "base_uri": "https://localhost:8080/"
        },
        "id": "zVyaQBer_HoU"
      },
      "outputs": [
        {
          "output_type": "stream",
          "name": "stdout",
          "text": [
            "Optimal Loan Allocations:\n",
            "Loan to Borrower A : 300000.0000006506\n",
            "Loan to Borrower B : 5.192941456057914e-05\n",
            "Loan to Borrower C : 699999.9999474199\n",
            "Total Expected Return: 107999.99999893537\n"
          ]
        }
      ],
      "source": [
        "import cvxpy as cp\n",
        "\n",
        "# Define variables\n",
        "xA = cp.Variable()  # Loan allocation to borrower type A\n",
        "xB = cp.Variable()  # Loan allocation to borrower type B\n",
        "xC = cp.Variable()  # Loan allocation to borrower type C\n",
        "\n",
        "# Define parameters\n",
        "total_capacity = 1000000\n",
        "\n",
        "# Objective function\n",
        "objective = cp.Maximize(0.08 * xA + 0.10 * xB + 0.12 * xC)\n",
        "\n",
        "# Constraints\n",
        "constraints = [\n",
        "    xA + xB + xC == total_capacity,\n",
        "    xA >= 0.30 * total_capacity,\n",
        "    xC >= 0.20 * total_capacity,\n",
        "    xB <= 0.40 * total_capacity,\n",
        "    xA >= 0,\n",
        "    xB >= 0,\n",
        "    xC >= 0\n",
        "]\n",
        "\n",
        "# Formulate the problem\n",
        "problem = cp.Problem(objective, constraints)\n",
        "\n",
        "# Solve the problem\n",
        "problem.solve()\n",
        "\n",
        "# Display the results\n",
        "print(\"Optimal Loan Allocations:\")\n",
        "print(\"Loan to Borrower A :\", xA.value)\n",
        "print(\"Loan to Borrower B :\", xB.value)\n",
        "print(\"Loan to Borrower C :\", xC.value)\n",
        "print(\"Total Expected Return:\", problem.value)\n"
      ]
    },
    {
      "cell_type": "markdown",
      "metadata": {
        "id": "Z3VZtPjJ_HoX"
      },
      "source": [
        "##Example: Currency Exposure Hedging Optimization Problem\n",
        "\n",
        "A company has a currency exposure of 100,000 units in USD and EUR. It can hedge using Forward Contracts (0.02 per unit) and Options (0.03 per unit). The goal is to minimize the total hedging cost while meeting the following constraints:\n",
        "\n",
        "- Total exposure must be fully hedged.\n",
        "- Forward Contracts usage cannot exceed 70,000 units.\n",
        "- At least 30,000 units must be hedged using Options.\n",
        "\n",
        "**Objective Function**\n",
        "\n",
        "\n",
        "The objective is to minimize the total hedging cost:\n",
        "$ \\text{Minimize} \\quad 0.02x_{\\text{Forward}} + 0.03x_{\\text{Options}} $\n",
        "\n",
        "where:\n",
        "- $x_{\\text{Forward}}$: units hedged using Forward Contracts\n",
        "- $x_{\\text{Options}}$: units hedged using Options\n",
        "\n",
        "**Constraints**\n",
        "1. Total exposure must be fully hedged:\n",
        "\n",
        "   $x_{\\text{Forward}} + x_{\\text{Options}} = 100,000$\n",
        "\n",
        "2. Forward Contracts usage cannot exceed 70,000 units:\n",
        "\n",
        "   $x_{\\text{Forward}} \\leq 70,000$\n",
        "\n",
        "3. At least 30,000 units must be hedged using Options:\n",
        "\n",
        "   $x_{\\text{Options}} \\geq 30,000$\n"
      ]
    },
    {
      "cell_type": "code",
      "execution_count": null,
      "metadata": {
        "outputId": "efe2b862-4005-4c2f-b76e-efd2b141eab2",
        "colab": {
          "base_uri": "https://localhost:8080/"
        },
        "id": "zaPuyzlC_HoY"
      },
      "outputs": [
        {
          "output_type": "stream",
          "name": "stdout",
          "text": [
            "Optimal Hedging Strategy:\n",
            "Units Hedged using Forward: 69999.99999996346\n",
            "Units Hedged using Options: 30000.00000003655\n",
            "Total Hedging Cost: 2300.0000000003656\n"
          ]
        }
      ],
      "source": [
        "# Define variables\n",
        "x_forward = cp.Variable()  # Units hedged using Forward Contracts\n",
        "x_options = cp.Variable()  # Units hedged using Options\n",
        "\n",
        "# Define parameters\n",
        "forward_cost_per_unit = 0.02\n",
        "options_cost_per_unit = 0.03\n",
        "total_exposure = 100000\n",
        "forward_contract_limit = 70000\n",
        "options_minimum = 30000\n",
        "\n",
        "# Objective function\n",
        "objective = cp.Minimize(forward_cost_per_unit * x_forward + options_cost_per_unit * x_options)\n",
        "\n",
        "# Constraints\n",
        "constraints = [\n",
        "    x_forward + x_options == total_exposure,\n",
        "    x_forward <= forward_contract_limit,\n",
        "    x_options >= options_minimum\n",
        "]\n",
        "\n",
        "# Formulate the problem\n",
        "problem = cp.Problem(objective, constraints)\n",
        "\n",
        "# Solve the problem\n",
        "problem.solve()\n",
        "\n",
        "# Display the results\n",
        "print(\"Optimal Hedging Strategy:\")\n",
        "print(\"Units Hedged using Forward:\", x_forward.value)\n",
        "print(\"Units Hedged using Options:\", x_options.value)\n",
        "print(\"Total Hedging Cost:\", problem.value)"
      ]
    },
    {
      "cell_type": "markdown",
      "metadata": {
        "id": "-WqOfvggqAkS"
      },
      "source": [
        "#Quadratic Programming"
      ]
    },
    {
      "cell_type": "markdown",
      "metadata": {
        "id": "IJg26uoa_tm6"
      },
      "source": [
        "##Example\n",
        "Minimize the following (quadratic) objective function:\n",
        "\n",
        "\n",
        "$ f(x, y) = 2x^2 + 5y^2 - 4xy + 6x + 8y $\n",
        "\n",
        "##Subject to the constraint:\n",
        "$ 3x + 2y \\leq 18 $\n",
        "\n"
      ]
    },
    {
      "cell_type": "markdown",
      "metadata": {
        "id": "TeNcbFs7_tmx"
      },
      "source": [
        "##Solving the Problem Using Standard Solvers"
      ]
    },
    {
      "cell_type": "markdown",
      "metadata": {
        "id": "10PlN-kQqAkT"
      },
      "source": [
        "To solve the above problem, we need to rewrite it in the **standard form**:\n",
        "\n",
        "\\\\\n",
        "\\begin{align*}\n",
        "\\text{minimize:}\\quad & \\frac{1}{2}x^TPx+q^Tx,& \\\\\n",
        "\\text{subject to:}\\quad & Gx &\\leq h&, \\\\\n",
        " & Ax &= b \\\\\n",
        "\\end{align*}\n",
        "\\\n",
        "where\n",
        "\n",
        "$P \\in  \\mathbb{R}^{n \\times n}, q \\in \\mathbb{R}^n, G \\in \\mathbb{R}^{m \\times n}, h \\in \\mathbb{R}^m, A \\in \\mathbb{R}^{p \\times n} \\text{ and } b \\in \\mathbb{R}^n \\text{ are problem data and } x \\in \\mathbb{R}^n \\text{ is the optimization variable}$"
      ]
    },
    {
      "cell_type": "markdown",
      "source": [
        "The above problem can be written in the standard form as:"
      ],
      "metadata": {
        "id": "JkB7NTXzBUUH"
      }
    },
    {
      "cell_type": "markdown",
      "source": [
        "\\begin{align*}\n",
        "\\text{minimize:}\\quad & \\frac{1}{2}\\begin{bmatrix} x \\\\ y \\end{bmatrix}^T\\begin{bmatrix} 4&-4 \\\\ -4& 10 \\end{bmatrix}\\begin{bmatrix} x \\\\ y \\end{bmatrix}+\\begin{bmatrix} 6 \\\\ 8 \\end{bmatrix}^T\\begin{bmatrix} x \\\\ y \\end{bmatrix}&\\\\\n",
        "\\text{subject to:}\\quad &  \\begin{bmatrix} 3&2 \\end{bmatrix}\\begin{bmatrix} x \\\\ y \\end{bmatrix}\\leq [18] &\\\\\n",
        "\\end{align*}\n",
        "\n",
        "which can be used using standard solvers such as **scipy**. However, to make our life easier, we will use CVXPY instead."
      ],
      "metadata": {
        "id": "6Kn8SEKoGhvK"
      }
    },
    {
      "cell_type": "markdown",
      "source": [
        "##Solving the Problem Using *CVXPY*"
      ],
      "metadata": {
        "id": "a_IIo2hPHVGJ"
      }
    },
    {
      "cell_type": "markdown",
      "source": [
        "Please note that the multiplication of two variables is not DCP convex. Thus we need to rearrange the objective function to avoid non DCP convex error. The rest is straightforward."
      ],
      "metadata": {
        "id": "363P-GZiHa2M"
      }
    },
    {
      "cell_type": "code",
      "execution_count": null,
      "metadata": {
        "outputId": "a0ebcee8-e93c-4659-8e17-93db2ad5a4b4",
        "colab": {
          "base_uri": "https://localhost:8080/"
        },
        "id": "V2QO09gs_tm8"
      },
      "outputs": [
        {
          "output_type": "stream",
          "name": "stdout",
          "text": [
            "Optimal x: -3.8333333333333335\n",
            "Optimal y: -2.3333333333333335\n",
            "Minimum value of the objective function: -20.833333333333332\n"
          ]
        }
      ],
      "source": [
        "# Define the variables\n",
        "x = cp.Variable()\n",
        "y = cp.Variable()\n",
        "\n",
        "# Define the objective function to minimize\n",
        "#objective = cp.Minimize(2*(x**2) + 5*(y**2) -4*(x*y) + 6*x + 8*y)\n",
        "# Note that we cannot write xy in CVXPY\n",
        "objective = cp.Minimize((x-2*y)**2 + x**2 + y**2       + 6*x + 8*y)\n",
        "\n",
        "# Define the constraint\n",
        "constraint = [3 * x + 2 * y <= 18]\n",
        "\n",
        "# Create the optimization problem\n",
        "problem = cp.Problem(objective, constraint)\n",
        "\n",
        "# Solve the problem\n",
        "problem.solve()\n",
        "\n",
        "# Display the results\n",
        "print(\"Optimal x:\", x.value)\n",
        "print(\"Optimal y:\", y.value)\n",
        "print(\"Minimum value of the objective function:\", problem.value)\n"
      ]
    },
    {
      "cell_type": "code",
      "source": [
        "# @title\n",
        "# Define the variables\n",
        "x = cp.Variable()\n",
        "y = cp.Variable()\n",
        "\n",
        "# Define the objective function to minimize\n",
        "Q = np.array([[4, -4], [-4, 10]])\n",
        "c = np.array([6, 8])\n",
        "objective = cp.Minimize(0.5 * cp.quad_form(cp.vstack([x, y]), Q) + c.T @ cp.vstack([x, y]))\n",
        "\n",
        "# Define the constraint\n",
        "constraint = [3 * x + 2 * y <= 18]\n",
        "\n",
        "# Create the optimization problem\n",
        "problem = cp.Problem(objective, constraint)\n",
        "\n",
        "# Solve the problem\n",
        "problem.solve()\n",
        "\n",
        "# Display the results\n",
        "print(\"Optimal x:\", x.value)\n",
        "print(\"Optimal y:\", y.value)\n",
        "print(\"Minimum value of the objective function:\", problem.value)"
      ],
      "metadata": {
        "colab": {
          "base_uri": "https://localhost:8080/"
        },
        "cellView": "form",
        "collapsed": true,
        "id": "NRmcBNYNBpXb",
        "outputId": "c4092587-648f-45cc-82a6-995ddca45514"
      },
      "execution_count": null,
      "outputs": [
        {
          "output_type": "stream",
          "name": "stdout",
          "text": [
            "Optimal x: -3.8333333333333326\n",
            "Optimal y: -2.333333333333334\n",
            "Minimum value of the objective function: -20.833333333333336\n"
          ]
        }
      ]
    },
    {
      "cell_type": "markdown",
      "metadata": {
        "id": "KW3-oeZbcsmW"
      },
      "source": [
        "##Example"
      ]
    },
    {
      "cell_type": "markdown",
      "metadata": {
        "id": "AWT-I9YFcsmW"
      },
      "source": [
        "\\begin{align*}\n",
        "\\text{minimize: } & (x-y)^2, \\\\\n",
        "\\text{subject to: } & x+y=2, \\\\\n",
        " & x-y \\geq 1, \\\\\n",
        "\\end{align*}\n",
        "where $x,y \\in \\mathbb{R}$"
      ]
    },
    {
      "cell_type": "code",
      "execution_count": null,
      "metadata": {
        "id": "h5rFgykKcsmX",
        "outputId": "2e5c5784-04f0-467e-8a36-e5913c4394a6",
        "colab": {
          "base_uri": "https://localhost:8080/"
        }
      },
      "outputs": [
        {
          "output_type": "stream",
          "name": "stdout",
          "text": [
            "status: optimal\n",
            "optimal value 1.0\n",
            "optimal var x is 1.5 y is 0.5\n"
          ]
        }
      ],
      "source": [
        "import cvxpy as cp\n",
        "import numpy as np\n",
        "\n",
        "# Create two scalar optimization variables.\n",
        "x = cp.Variable()\n",
        "y = cp.Variable()\n",
        "\n",
        "# Form objective.\n",
        "obj = cp.Minimize((x - y)**2)\n",
        "\n",
        "# Create two constraints.\n",
        "constraints = [x + y == 2,\n",
        "               x - y >= 1]\n",
        "\n",
        "# Form and solve problem.\n",
        "prob = cp.Problem(obj, constraints)\n",
        "prob.solve()\n",
        "# Returns the optimal value.\n",
        "print(\"status:\", prob.status)\n",
        "print(\"optimal value\", prob.value)\n",
        "print(\"optimal var\",'x is', x.value,'y is', y.value)"
      ]
    },
    {
      "cell_type": "markdown",
      "metadata": {
        "id": "_rv-IX-hIw_2"
      },
      "source": [
        "##Example: Adversing Problem"
      ]
    },
    {
      "cell_type": "markdown",
      "metadata": {
        "id": "J0tElHpBIw__"
      },
      "source": [
        "A company has a total advertising budget of $1,000,000 and wants to allocate this budget across three marketing channels: online advertising, television advertising, and print advertising. The goal is to maximize the overall brand exposure and engagement, which is measured by a quadratic utility function representing the impact of advertising spending on each channel.\n",
        "\n",
        "The quadratic utility functions for each channel are as follows:\n",
        "\n",
        "1. **Online Advertising:** $ U_{\\text{online}}(x_{\\text{online}}) = -0.001x_{\\text{online}}^2 + 500x_{\\text{online}} $\n",
        "2. **Television Advertising:** $ U_{\\text{TV}}(x_{\\text{TV}}) = -0.0005x_{\\text{TV}}^2 + 300x_{\\text{TV}} $\n",
        "3. **Print Advertising:** $ U_{\\text{print}}(x_{\\text{print}}) = -0.0007x_{\\text{print}}^2 + 400x_{\\text{print}} $\n",
        "\n",
        "where $x_{\\text{online}}$, $x_{\\text{TV}}$, and $x_{\\text{print}}$ are the amounts spent on online, TV, and print advertising, respectively.\n",
        "\n",
        "The total budget constraint is:\n",
        "\n",
        "$ x_{\\text{online}} + x_{\\text{TV}} + x_{\\text{print}} = 1,000,000 $\n",
        "\n",
        "**Objective Function**\n",
        "\n",
        "The objective is to maximize the overall quadratic utility:\n",
        "\n",
        "$ \\text{Maximize} \\quad U(x) = U_{\\text{online}}(x_{\\text{online}}) + U_{\\text{TV}}(x_{\\text{TV}}) + U_{\\text{print}}(x_{\\text{print}}) $\n",
        "\n",
        "**Constraints**\n",
        "\n",
        "Subject to the total budget constraint:\n",
        "\n",
        "$ x_{\\text{online}} + x_{\\text{TV}} + x_{\\text{print}} = 1,000,000 $\n",
        "\n"
      ]
    },
    {
      "cell_type": "code",
      "execution_count": null,
      "metadata": {
        "outputId": "33a31468-ad94-4dd1-915c-1625af59fd25",
        "colab": {
          "base_uri": "https://localhost:8080/"
        },
        "id": "8-9L9u38IxAA"
      },
      "outputs": [
        {
          "output_type": "stream",
          "name": "stdout",
          "text": [
            "Optimal solution:\n",
            "Online Advertising Budget: 287096.7741928672\n",
            "Television Advertising Budget: 374193.548386395\n",
            "Print Advertising Budget: 338709.6774186611\n"
          ]
        }
      ],
      "source": [
        "# Define variables\n",
        "x_online = cp.Variable()\n",
        "x_tv = cp.Variable()\n",
        "x_print = cp.Variable()\n",
        "\n",
        "# Define parameters\n",
        "budget = 1000000\n",
        "\n",
        "# Define quadratic utility functions\n",
        "U_online = -0.001 * x_online**2 + 500 * x_online\n",
        "U_tv = -0.0005 * x_tv**2 + 300 * x_tv\n",
        "U_print = -0.0007 * x_print**2 + 400 * x_print\n",
        "\n",
        "# Objective function to maximize overall utility\n",
        "objective = cp.Maximize(U_online + U_tv + U_print)\n",
        "\n",
        "# Total budget constraint\n",
        "budget_constraint = [x_online + x_tv + x_print == budget]\n",
        "\n",
        "# Formulate the problem\n",
        "problem = cp.Problem(objective, budget_constraint)\n",
        "\n",
        "# Solve the problem\n",
        "problem.solve()\n",
        "\n",
        "# Display the results\n",
        "print(\"Optimal solution:\")\n",
        "print(\"Online Advertising Budget:\", x_online.value)\n",
        "print(\"Television Advertising Budget:\", x_tv.value)\n",
        "print(\"Print Advertising Budget:\", x_print.value)\n"
      ]
    },
    {
      "cell_type": "markdown",
      "source": [
        "#Solving Other Types of Convex Optimization Problems"
      ],
      "metadata": {
        "id": "H8puM0csJiYc"
      }
    },
    {
      "cell_type": "markdown",
      "metadata": {
        "id": "PDcV51QEMQ3r"
      },
      "source": [
        "##Why Convex Function?"
      ]
    },
    {
      "cell_type": "markdown",
      "metadata": {
        "id": "j3wfMoZzMSKq"
      },
      "source": [
        "A function $f(x)$ is convex on an interval $[a,b]$ if for any two points $x_1$ and $x_2$ in $[a,b]$ and any $\\alpha$ where $0<\\alpha<1$,\n",
        "$$f[\\alpha x_1+(1-\\alpha) x_2]\\leq \\alpha f[x_1]+(1-\\alpha )f[x_2].$$"
      ]
    },
    {
      "cell_type": "code",
      "source": [
        "# @title\n",
        "#กรณีที่ทุกคนเน็ตเร็วนะครับผมหาวิธีไม่ได้ครับผมเจอแต่วิธีที่ต้องผ่าน drive ครับ\n",
        "from IPython.display import Image, display\n",
        "\n",
        "# Replace \"image_url\" with the direct URL of your image\n",
        "image_url = \"https://upload.wikimedia.org/wikipedia/commons/c/c7/ConvexFunction.svg\"\n",
        "\n",
        "# Display the image\n",
        "display(Image(url=image_url))\n"
      ],
      "metadata": {
        "colab": {
          "base_uri": "https://localhost:8080/",
          "height": 463
        },
        "cellView": "form",
        "id": "c8Afwah5V7j8",
        "outputId": "a370565b-3258-4ccb-cf74-3e33d8611322"
      },
      "execution_count": null,
      "outputs": [
        {
          "output_type": "display_data",
          "data": {
            "text/html": [
              "<img src=\"https://upload.wikimedia.org/wikipedia/commons/c/c7/ConvexFunction.svg\"/>"
            ],
            "text/plain": [
              "<IPython.core.display.Image object>"
            ]
          },
          "metadata": {}
        }
      ]
    },
    {
      "cell_type": "markdown",
      "source": [
        "If an objective function is convex, we can be sure that there is only one optimal point."
      ],
      "metadata": {
        "id": "WFqZXbsHlRpk"
      }
    },
    {
      "cell_type": "markdown",
      "metadata": {
        "id": "6fAlyvYqcsmZ"
      },
      "source": [
        "##Disciplined Convex Programming"
      ]
    },
    {
      "cell_type": "markdown",
      "source": [
        "Disciplined convex programming (DCP) is a system for constructing mathematical expressions with known curvature from a given library of base functions. CVXPY uses DCP to ensure that the specified optimization problems are convex.\n",
        "\n",
        "This section of the tutorial explains the rules of DCP and how they are applied by CVXPY.\n",
        "\n",
        "Visit [link text](https://www.cvxpy.org/tutorial/dcp/index.html) (https://www.cvxpy.org/tutorial/dcp/index.html)"
      ],
      "metadata": {
        "id": "zrDHllFkJ2la"
      }
    },
    {
      "cell_type": "markdown",
      "metadata": {
        "id": "28_tAAsiJIUq"
      },
      "source": [
        "##More Atomic Functions"
      ]
    },
    {
      "cell_type": "markdown",
      "metadata": {
        "id": "BylLSTkpJIUs"
      },
      "source": [
        "This section of the tutorial describes the atomic functions that can be applied to CVXPY expressions. CVXPY uses the function information in this section and the DCP rules to mark expressions with a sign and curvature.\n",
        "\n",
        "Visit: [link text](https://www.cvxpy.org/tutorial/dcp/index.html) (https://www.cvxpy.org/tutorial/functions/index.html)"
      ]
    },
    {
      "cell_type": "markdown",
      "source": [
        "##Example\n"
      ],
      "metadata": {
        "id": "7f964xwd6bqK"
      }
    },
    {
      "cell_type": "markdown",
      "source": [
        "\\begin{align*}\n",
        "\\text{Minimize: } & e^{-(x+y)}, \\\\\n",
        "\\text{Subject to: } & x + y = 2, \\\\\n",
        " & x - y \\geq 1,\n",
        "\\end{align*}\n"
      ],
      "metadata": {
        "id": "HKJK-eMwteOM"
      }
    },
    {
      "cell_type": "code",
      "source": [
        "import cvxpy as cp\n",
        "\n",
        "# Define variables\n",
        "x = cp.Variable()\n",
        "y = cp.Variable()\n",
        "\n",
        "# Define the objective function\n",
        "objective = cp.Minimize(cp.exp(-(x + y)))\n",
        "\n",
        "# Define the constraints\n",
        "constraints = [x + y == 2, x - y >= 1]\n",
        "\n",
        "# Formulate the optimization problem\n",
        "problem = cp.Problem(objective, constraints)\n",
        "\n",
        "# Solve the problem\n",
        "problem.solve()\n",
        "\n",
        "# Display the results\n",
        "print(\"Optimal value (minimum):\", problem.value)\n",
        "print(\"Optimal x:\", x.value)\n",
        "print(\"Optimal y:\", y.value)\n"
      ],
      "metadata": {
        "colab": {
          "base_uri": "https://localhost:8080/"
        },
        "id": "7pcQ44w9r9gb",
        "outputId": "4ba3397d-539e-49d6-e9e6-c6dffe3b3fb4"
      },
      "execution_count": null,
      "outputs": [
        {
          "output_type": "stream",
          "name": "stdout",
          "text": [
            "Optimal value (minimum): 0.1353352832828886\n",
            "Optimal x: 2.3252201831737245\n",
            "Optimal y: -0.3252201835156598\n"
          ]
        }
      ]
    },
    {
      "cell_type": "markdown",
      "source": [
        "##Example"
      ],
      "metadata": {
        "id": "NWn_WutB6vZA"
      }
    },
    {
      "cell_type": "markdown",
      "source": [
        "\\begin{align*}\n",
        "\\text{Minimize: } & -\\log(x) - 2\\log(y), \\\\\n",
        "\\text{Subject to: } & x + y = 1, \\\\\n",
        "& x, y > 0.\n",
        "\\end{align*}\n"
      ],
      "metadata": {
        "id": "QaiGVKYCzvyE"
      }
    },
    {
      "cell_type": "code",
      "source": [
        "# Define variables\n",
        "x = cp.Variable(pos=True)  # x > 0\n",
        "y = cp.Variable(pos=True)  # y > 0\n",
        "\n",
        "# Define the objective function\n",
        "objective = cp.Minimize(-cp.log(x) - 2 * cp.log(y))\n",
        "\n",
        "# Define the constraint\n",
        "constraint = [x + y == 1]\n",
        "\n",
        "# Formulate the optimization problem\n",
        "problem = cp.Problem(objective, constraint)\n",
        "\n",
        "# Solve the problem\n",
        "problem.solve()\n",
        "\n",
        "# Display the results\n",
        "print(\"Optimal value (minimum):\", problem.value)\n",
        "print(\"Optimal x:\", x.value)\n",
        "print(\"Optimal y:\", y.value)"
      ],
      "metadata": {
        "colab": {
          "base_uri": "https://localhost:8080/"
        },
        "id": "a4ev6bNF0Jiz",
        "outputId": "71cd50d7-40b4-4088-8047-87794be9829d"
      },
      "execution_count": null,
      "outputs": [
        {
          "output_type": "stream",
          "name": "stdout",
          "text": [
            "Optimal value (minimum): 1.9095425051468993\n",
            "Optimal x: 0.333332119577795\n",
            "Optimal y: 0.6666678803380326\n"
          ]
        }
      ]
    }
  ],
  "metadata": {
    "kernelspec": {
      "display_name": "base",
      "language": "python",
      "name": "python3"
    },
    "language_info": {
      "codemirror_mode": {
        "name": "ipython",
        "version": 3
      },
      "file_extension": ".py",
      "mimetype": "text/x-python",
      "name": "python",
      "nbconvert_exporter": "python",
      "pygments_lexer": "ipython3",
      "version": "3.10.9"
    },
    "colab": {
      "provenance": [],
      "collapsed_sections": [
        "-WqOfvggqAkS"
      ],
      "include_colab_link": true
    }
  },
  "nbformat": 4,
  "nbformat_minor": 0
}